{
 "cells": [
  {
   "cell_type": "markdown",
   "id": "6918e18a-c248-4929-b552-7aee2057c0eb",
   "metadata": {
    "collapsed": false,
    "jupyter": {
     "outputs_hidden": false,
     "source_hidden": false
    }
   },
   "source": [
    "![](image.jpg)\n",
    "\n",
    "\n",
    "Dive into the heart of data science with a project that combines healthcare insights and predictive analytics. As a Data Scientist at a top Health Insurance company, you have the opportunity to predict customer healthcare costs using the power of machine learning. Your insights will help tailor services and guide customers in planning their healthcare expenses more effectively.\n",
    "\n",
    "## Dataset Summary\n",
    "\n",
    "Meet your primary tool: the `insurance.csv` dataset. Packed with information on health insurance customers, this dataset is your key to unlocking patterns in healthcare costs. Here's what you need to know about the data you'll be working with:\n",
    "\n",
    "## insurance.csv\n",
    "| Column    | Data Type | Description                                                      |\n",
    "|-----------|-----------|------------------------------------------------------------------|\n",
    "| `age`       | int       | Age of the primary beneficiary.                                  |\n",
    "| `sex`       | object    | Gender of the insurance contractor (male or female).             |\n",
    "| `bmi`       | float     | Body mass index, a key indicator of body fat based on height and weight. |\n",
    "| `children`  | int       | Number of dependents covered by the insurance plan.              |\n",
    "| `smoker`    | object    | Indicates whether the beneficiary smokes (yes or no).            |\n",
    "| `region`    | object    | The beneficiary's residential area in the US, divided into four regions. |\n",
    "| `charges`   | float     | Individual medical costs billed by health insurance.             |\n",
    "\n",
    "\n",
    "\n",
    "A bit of data cleaning is key to ensure the dataset is ready for modeling. Once your model is built using the `insurance.csv` dataset, the next step is to apply it to the `validation_dataset.csv`. This new dataset, similar to your training data minus the `charges` column, tests your model's accuracy and real-world utility by predicting costs for new customers.\n",
    "\n",
    "## Let's Get Started!\n",
    "\n",
    "This project is your playground for applying data science in a meaningful way, offering insights that have real-world applications. Ready to explore the data and uncover insights that could revolutionize healthcare planning? Let's begin this exciting journey!"
   ]
  },
  {
   "cell_type": "code",
   "execution_count": null,
   "id": "81a07c66-a3d4-4fdd-9c3c-7b3a19b80d62",
   "metadata": {
    "executionCancelledAt": null,
    "executionTime": 28,
    "lastExecutedAt": 1711265070173,
    "lastScheduledRunId": null,
    "lastSuccessfullyExecutedCode": "# Re-run this cell\n# Import required libraries\n\nimport pandas as pd\nimport numpy as np\nfrom sklearn.preprocessing import StandardScaler\nfrom sklearn.model_selection import cross_val_score\n\n# Loading the insurance dataset\ninsurance_data_path = 'insurance.csv'\ninsurance = pd.read_csv(insurance_data_path)\ninsurance.head()",
    "outputsMetadata": {
     "0": {
      "height": 222,
      "type": "dataFrame"
     }
    }
   },
   "outputs": [],
   "source": [
    "# Re-run this cell\n",
    "# Import required libraries\n",
    "import pandas as pd\n",
    "import numpy as np\n",
    "from sklearn.preprocessing import StandardScaler\n",
    "from sklearn.model_selection import cross_val_score\n",
    "\n",
    "# Loading the insurance dataset\n",
    "insurance_data_path = 'insurance.csv'\n",
    "insurance = pd.read_csv(insurance_data_path)\n",
    "insurance.head()"
   ]
  },
  {
   "cell_type": "code",
   "execution_count": null,
   "id": "a143c3b2-1ff1-47a0-8fc6-662b8b19dbf1",
   "metadata": {},
   "outputs": [],
   "source": [
    "# Implement model creation and training here\n",
    "# Use as many cells as you need"
   ]
  },
  {
   "cell_type": "markdown",
   "id": "5f242bd9",
   "metadata": {},
   "source": [
    "### Cleaning the Data"
   ]
  },
  {
   "cell_type": "code",
   "execution_count": null,
   "id": "d85218e6",
   "metadata": {},
   "outputs": [],
   "source": [
    "def clean_insurance(df):\n",
    "    insurance_cleaned = df.copy()\n",
    "    insurance_cleaned = insurance_cleaned[insurance_cleaned['age'] > 0]\n",
    "    insurance_cleaned['sex'] = (\n",
    "        insurance_cleaned['sex']\n",
    "        .astype('object')\n",
    "        .map(lambda x: {'f': 'F', 'm': 'M'}.get(str(x).lower()[0], None))\n",
    "    )\n",
    "    insurance_cleaned['children'] = (\n",
    "        insurance_cleaned['children']\n",
    "        .clip(lower=0)  # Ensure no negative values\n",
    "        .fillna(0)      # Replace NaN with 0\n",
    "        .replace([float('inf'), -float('inf')], 0)  # Replace inf/-inf with 0\n",
    "        .round(0)       # Round to nearest integer\n",
    "        .astype('int32')  # Convert to int32\n",
    "    )\n",
    "    insurance_cleaned['smoker'] = (\n",
    "        insurance_cleaned['smoker']\n",
    "        .astype('object') \n",
    "        .map(lambda x: {'y': True, 'n': False}.get(str(x).lower()[0], None))\n",
    "    )\n",
    "    insurance_cleaned['region'] = insurance_cleaned['region'].str.lower()\n",
    "    def clean_dollar_value(value):\n",
    "        try:\n",
    "            # Remove dollar sign and commas, and convert to float\n",
    "            return float(str(value).replace('$', '').replace(',', '').strip())\n",
    "        except ValueError:\n",
    "            # Return NaN if conversion fails\n",
    "            return float('nan')\n",
    "    try:\n",
    "        insurance_cleaned['charges'] = insurance_cleaned['charges'].map(clean_dollar_value)\n",
    "    except:\n",
    "        pass\n",
    "    return insurance_cleaned"
   ]
  },
  {
   "cell_type": "code",
   "execution_count": null,
   "id": "b0bdba13",
   "metadata": {},
   "outputs": [],
   "source": [
    "insurance_cleaned = clean_insurance(insurance)\n",
    "insurance_cleaned = insurance_cleaned.dropna()\n",
    "insurance_cleaned.info()"
   ]
  },
  {
   "cell_type": "code",
   "execution_count": null,
   "id": "2edabd17",
   "metadata": {},
   "outputs": [],
   "source": [
    "features_df = insurance_cleaned.drop('charges', axis=1)\n",
    "features_dummified = pd.get_dummies(features_df, drop_first = True)\n",
    "X = features_dummified.values\n",
    "y = insurance_cleaned['charges'].values"
   ]
  },
  {
   "cell_type": "code",
   "execution_count": null,
   "id": "14a3a16b",
   "metadata": {},
   "outputs": [],
   "source": [
    "from sklearn.linear_model import LinearRegression\n",
    "from sklearn.model_selection import train_test_split\n",
    "from sklearn.pipeline import make_pipeline\n",
    "X_train, X_test, y_train, y_test = train_test_split(X, y, shuffle=True)\n",
    "model = LinearRegression()\n",
    "pipeline = make_pipeline(StandardScaler(), model)\n",
    "pipeline.fit(X_train, y_train)\n",
    "r2_score = pipeline.score(X_test, y_test)\n",
    "r2_score"
   ]
  },
  {
   "cell_type": "code",
   "execution_count": null,
   "id": "d9bf196f",
   "metadata": {},
   "outputs": [],
   "source": [
    "print(model.coef_, model.intercept_)"
   ]
  },
  {
   "cell_type": "code",
   "execution_count": null,
   "id": "255c3fa2",
   "metadata": {},
   "outputs": [],
   "source": [
    "validation_data_path = 'validation_dataset.csv'\n",
    "validation_data = pd.read_csv(validation_data_path)\n",
    "\n",
    "validation_cleaned = clean_insurance(validation_data)\n",
    "validation_dummified = pd.get_dummies(validation_cleaned, drop_first = True)\n",
    "X_validation = validation_dummified.values\n",
    "predicted_charges = pipeline.predict(X_validation)\n",
    "np.min(predicted_charges)"
   ]
  },
  {
   "cell_type": "code",
   "execution_count": null,
   "id": "98cd24d8",
   "metadata": {},
   "outputs": [],
   "source": [
    "validation_data['predicted_charges'] = predicted_charges.clip(1000)\n",
    "np.min(validation_data['predicted_charges'])"
   ]
  }
 ],
 "metadata": {
  "colab": {
   "name": "Welcome to DataCamp Workspaces.ipynb",
   "provenance": []
  },
  "kernelspec": {
   "display_name": "Python 3",
   "language": "python",
   "name": "python3"
  },
  "language_info": {
   "codemirror_mode": {
    "name": "ipython",
    "version": 3
   },
   "file_extension": ".py",
   "mimetype": "text/x-python",
   "name": "python",
   "nbconvert_exporter": "python",
   "pygments_lexer": "ipython3",
   "version": "3.13.0rc3"
  }
 },
 "nbformat": 4,
 "nbformat_minor": 5
}
