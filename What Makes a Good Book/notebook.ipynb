{
 "cells": [
  {
   "cell_type": "markdown",
   "id": "fc61438f-c939-4adb-9feb-f32b41be70e8",
   "metadata": {},
   "source": [
    "![bookstore](bookstore.jpg)\n"
   ]
  },
  {
   "cell_type": "markdown",
   "id": "405dc77e-dfb4-44c5-a686-33ed3e845da1",
   "metadata": {},
   "source": [
    "Identifying popular products is incredibly important for e-commerce companies! Popular products generate more revenue and, therefore, play a key role in stock control.\n",
    "\n",
    "You've been asked to support an online bookstore by building a model to predict whether a book will be popular or not. They've supplied you with an extensive dataset containing information about all books they've sold, including:\n",
    "\n",
    "* `price`\n",
    "* `popularity` (target variable)\n",
    "* `review/summary`\n",
    "* `review/text`\n",
    "* `review/helpfulness`\n",
    "* `authors`\n",
    "* `categories`\n",
    "\n",
    "You'll need to build a model that predicts whether a book will be rated as popular or not.\n",
    "\n",
    "They have high expectations of you, so have set a target of at least 70% accuracy! You are free to use as many features as you like, and will need to engineer new features to achieve this level of performance."
   ]
  },
  {
   "cell_type": "code",
   "execution_count": null,
   "id": "3408aabe",
   "metadata": {},
   "outputs": [],
   "source": [
    "# Import some required packages\n",
    "import pandas as pd\n",
    "import numpy as np\n",
    "from textblob import TextBlob\n",
    "from sklearn.model_selection import cross_val_score\n",
    "from sklearn.preprocessing import StandardScaler\n",
    "from sklearn.feature_extraction.text import TfidfVectorizer\n",
    "from sklearn.pipeline import Pipeline\n",
    "from sklearn.compose import ColumnTransformer\n",
    "from sklearn.linear_model import LogisticRegression"
   ]
  },
  {
   "cell_type": "markdown",
   "id": "9ec86502",
   "metadata": {},
   "source": [
    "# EDA"
   ]
  },
  {
   "cell_type": "code",
   "execution_count": 2,
   "id": "a8010c2d-a710-4900-931d-96cc39499b25",
   "metadata": {
    "executionCancelledAt": null,
    "executionTime": 1872,
    "lastExecutedAt": 1713956804611,
    "lastExecutedByKernel": "48247c7b-9886-40f3-8698-95b36955e041",
    "lastScheduledRunId": null,
    "lastSuccessfullyExecutedCode": "# Import some required packages\nimport pandas as pd\n\n# Read in the dataset\nbooks = pd.read_csv(\"data/books.csv\")\n\n# Preview the first five rows\nbooks.head()",
    "outputsMetadata": {
     "0": {
      "height": 222,
      "tableState": {},
      "type": "dataFrame"
     }
    }
   },
   "outputs": [
    {
     "data": {
      "application/vnd.microsoft.datawrangler.viewer.v0+json": {
       "columns": [
        {
         "name": "index",
         "rawType": "int64",
         "type": "integer"
        },
        {
         "name": "title",
         "rawType": "object",
         "type": "string"
        },
        {
         "name": "price",
         "rawType": "float64",
         "type": "float"
        },
        {
         "name": "review/helpfulness",
         "rawType": "object",
         "type": "string"
        },
        {
         "name": "review/summary",
         "rawType": "object",
         "type": "string"
        },
        {
         "name": "review/text",
         "rawType": "object",
         "type": "string"
        },
        {
         "name": "description",
         "rawType": "object",
         "type": "string"
        },
        {
         "name": "authors",
         "rawType": "object",
         "type": "string"
        },
        {
         "name": "categories",
         "rawType": "object",
         "type": "string"
        },
        {
         "name": "popularity",
         "rawType": "object",
         "type": "string"
        }
       ],
       "conversionMethod": "pd.DataFrame",
       "ref": "25b5748f-46f5-48fd-88ce-a55b5e13682a",
       "rows": [
        [
         "0",
         "We Band of Angels: The Untold Story of American Nurses Trapped on Bataan by the Japanese",
         "10.88",
         "2/3",
         "A Great Book about women in WWII",
         "I have alway been a fan of fiction books set in WW2,even though I am not sure why. I recently decided to see if that interst went over to non-fiction so I bought &quot;We Band of Angels&quot; and I was so glad that I did. This was a great book about nurses that served during this time. I don't think that any of them ever thought that they would ever see combat, but when it came they were truly amazing people during one of histories darkest hour. A must read.",
         "In the fall of 1941, the Philippines was a gardenia-scented paradise for the American Army and Navy nurses stationed there. War was a distant rumor, life a routine of easy shifts and dinners under the stars. On December 8 all that changed, as Japanese bombs began raining down on American bases in Luzon, and this paradise became a fiery hell. Caught in the raging battle, the nurses set up field hospitals in the jungles of Bataan and the tunnels of Corregidor, where they tended to the most devastating injuries of war, and suffered the terrors of shells and shrapnel. But the worst was yet to come. After Bataan and Corregidor fell, the nurses were herded into internment camps where they would endure three years of fear, brutality, and starvation. Once liberated, they returned to an America that at first celebrated them, but later refused to honor their leaders with the medals they clearly deserved. Here, in letters, diaries, and riveting firsthand accounts, is the story of what really happened during those dark days, woven together in a deeply affecting saga of women in war. Praise for We Band of Angels “Gripping . . . a war story in which the main characters never kill one of the enemy, or even shoot at him, but are nevertheless heroes . . . Americans today should thank God we had such women.”—Stephen E. Ambrose “Remarkable and uplifting.”—USA Today “[Elizabeth M. Norman] brings a quiet, scholarly voice to this narrative. . . . In just a little over six months these women had turned from plucky young girls on a mild adventure to authentic heroes. . . . Every page of this history is fascinating.”—Carolyn See, The Washington Post “Riveting . . . poignant and powerful.”—The Dallas Morning News Winner of the Lavinia Dock Award for historical scholarship, the American Academy of Nursing National Media Award, and the Agnes Dillon Randolph Award",
         "'Elizabeth Norman'",
         "'History'",
         "Unpopular"
        ],
        [
         "1",
         "Prayer That Brings Revival: Interceding for God to move in your family, church, and community",
         "9.35",
         "0/0",
         "Very helpful book for church prayer groups and if you are by yourself.",
         "Very helpful book to give you a better prayer life. It brings clarity and understanding of how to have an effective prayer life.",
         "In Prayer That Brings Revival, best-selling author David Yonggi Cho shares key principles to having the kind of prayer life that will move your mountains and stir revival in home, church, and community. This book will: -Show you how prayer produces power. -Teach you the key to prayer and fasting. -Prepare you to wait on the Lord. -Help you to pray longer, with more persistence. -Instruct you on how to listen to God's voice.",
         "'Yong-gi Cho'",
         "'Religion'",
         "Unpopular"
        ],
        [
         "2",
         "The Mystical Journey from Jesus to Christ",
         "24.95",
         "17/19",
         "Universal Spiritual Awakening Guide With Some Too Radical Approaches",
         "The message of this book is to find yourself as that what you are: The Self, without any separations. Everything is the Supreme Being. Realize your divinity, and everybody and everything else's! It is the task of the spiritual seeker to go beyond the veil of outer forms of religion, including symbols, doctrines, rituals and traditions. No matter what branch of religion, when you have mastered its myths and rituals, you are taken further, into the mysticism, which is always of the above knowledge. This book includes Buddhism, Christianity, Hinduism, Islam, Judaism, Taoism, Yoga and some other branches, which are all derived from the Ancient Egyptian religion.Comparisons are not only made via the similarities of myths, e.g. the quasi identical child stories of Heru, Krishna, Jesus, etc., but the universal wisdom behind such metaphorical stories. The official religion leaders may have persecuted those wisdom seekers who appear in the form of Christian Gnostics or Muslim Sufis etc. It has been a power struggle of the respective Orthodox officials versus the Yoga branches.The book is helping in the elimination of dualism, egoism, anger, greed addiction, nationalism, religious hate, sexism and any other separation. (Though further help via knowledge may be necessary and some separations have been left out.) With that, the cycle of birth and death gets broken, as well as the concept of hell.All of this is done from many perspectives. Which by itself becomes repetitive. The books repeats in addition to that.Usually indirectly, the author assumes at several points that the ancient Jews including Moses and Abraham would have been white, leading to some wrong conclusions from that, e.g. the origin of racism supposedly deriving from the Jewish concept of not marrying outside themselves. In reality, most of them became lighter-skinned, BECAUSE of so much procreating with \"outsiders\". Read for exampleThe Africans Who Wrote the Bible. Moses would be metaphorical. ReadMoses and Akhenaten: The Secret History of Egypt at the Time of the Exodusfor a much different perspective. Occasionally I found it difficult to differentiate of what the author was writing about: Egypt, Ethiopia/Axum or Sudan/Nubia, for the interchangeable use of vocabulary.Occasionally the book takes its ways too far, something prone to happen in religion and human minds in general. It is correct in saying that celibacy allows spiritual energy to build up in such abundance, that great works may be written for humanity. But please: No absolutism! There isn't the metaphor of going into the desert for 40 days for nothing: After that, please return! If you don't, several things are bound to happen: Ever more radicalism. In medievil European times, youths were burnt at the stake for wet dreams in some places, in others the VICTIMS of rape as sick. After roughly two centuries the absolutely celibate Christian \"Shakers\" of the USA are virtually extinct (adoption and proselytizing coulnd't stop that trend). A divided society of two spiritual classes under the Vatican. The celibacy wisdom from eastern Asia is based on lacking ancient knowledge. It was presumed that during orgasm of mostly males, a liquid of lifeforce would be lost to the body. For one thing: The body isn't meant to be eternal. That liquid makes sure, it will get renewed via a new body. For another: If that liquid doesn't leave the body, it will turn \"dead\" after four days. If it doesn't get expelled automatically during sleep, it will get reabsorbed by the body like a black and blue mark. Eastern knowledge also says orgasm is one of the short experiences of a divine state. Use sexuality in a conscious, different than plain addiction way, maybe with some breaks once in a while. There's no need for further nurturing the meme pool of medievil sex-hostility.As a RastafarI I was enjoyed to read a spiritual book which largely corresponds to my overstanding of spirituality. In utter irony, in its two pages devoted to \"Rastafarianism\" [sic!], the author basically avers this branch of religion wouldn't \"understand\" a thing. Which is the only religion, he is saying that about in its entirety. I couldn't believe the words I was reading. If any other author would have written something absurd like this... but for this one such a sloppy non-overstanding is simply embarassing. I mean, even the minister-author of the blatantly ANTI-gnosticDread Jesusprovides involuntary knowledge about RastafarI to the contrary. Obviously, Muata Abhaya Ashby escaped the 1983 bookRastafari: For the Healing of the Nations. I am amazed he didn't even wonder about the \"I-and-I\" concept (instead of \"we\"), to come up with some conclusion of compatibility with his vision. But then again, I-n-I live in anti-Rasta Imes. Accordingly, this sub-chapter insults RastafarI as a belief, \"fomenting unrest and divisiveness between peoples\" and with Jah as having died. Additionally, the author wastes precious space with supposedly strict food laws, including ones against milk and coffee. ??? Some digestive tracts may not react this well to milk and personally I am not too fond of the taste of coffee, though I'd like to hear another Rasta reprimanding me for drinking an originally Ethiopian beverage, should I ever chose to do so! I have no idea, where the author collected his very superficial and monolithic ideas, so here's a message: In the terms as used by the author, guess what: There are Orthodox and Yoga branches within RastafarI as well.This book also leaves out, what the author would term Science Yoga. For that readFrom Science to God: A Physicist's Journey into the Mystery of Consciousness.Other readers may find it inconvenient to read about the severing of family ties. My advice: Do not fall for ever more radical, literal interpretations, otherwise this basic wisdom will get pushed from the pedestal entirely sooner or later by yourself or a following generation. Also the illusion of the current concept of civilisation and democracy are valid ideas, including that the separation of state and religion has opened the doors to corruption, exploitation and similar unethical behaviour by political and economical leaders. However, that isn't much different with various religious leaders including countries with no such separation. The solution has yet to be worked out instead of a somehow suggested either-or approach.The publication itself isn't for perfectionists. Included is an ad for a guide to self-publishing. This edition of \"1998-2006\" sure provides some hints of what to take better care of. The resolution of images is largely a catastrophe. References to the cover pictures are obviously from another edition. The captions within the book are occasionally switched. There are even captions without any images and a caption erasing the main text. Footnotes may have been provided within the text already, a chapter features a non-existing Roman numeral, etc. and the title of the book has been changed. Originally, it was preceded with \"Christian Yoga Volume 1:\" There's much ado about a 2nd Volume, yet I wasn't able to find any trace of it.Keep in mind, that the supersize of this book (28 x 21cm) basically doubles the small print content of its 256 regular text pages to that of normal-sized books.",
         "THE MYSTICAL JOURNEY FROM JESUS TO CHRIST Discover the ancient Egyptian origins of Christianity before the Catholic Church and learn the mystical teachings given by Jesus to assist all humanity in becoming Christlike. Discover the secret meaning of the Gospels that were discovered in Egypt. Also discover how and why so many Christian churches came into being. Discover that the Bible still holds the keys to mystical realization even though its original writings were changed by the church. Discover how to practice the original teachings of Christianity which leads to the Kingdom of Heaven.",
         "'Muata Ashby'",
         "'Body, Mind & Spirit'",
         "Unpopular"
        ],
        [
         "3",
         "Death Row",
         "7.99",
         "0/1",
         "Ben Kincaid tries to stop an execution.",
         "The hero of William Bernhardt's Ben Kincaid novels is a socially inept but legally astute Oklahoma criminal defense attorney. Traditionally, a Ben Kincaid novel features a great deal of cutesy banter and coy behavior on the part of Ben and his wacky office staff. There is still some of that in &quot;Death Row,&quot; but this book proves to be much more harrowing and serious than the usual Bernhardt fare.The first chapter of &quot;Death Row&quot; is frightening and disturbing. The reader is immediately plunged into an apparent home invasion in which a family is brutally tortured and murdered, with one survivor desperately trying to break free before she too is killed. We then fast forward seven years later to the trial of Ray Goldman, who is convicted and sentenced to die for the killing of the aforementioned family. Ben Kincaid is handling Goldman's case. With the help of his good friend and law partner, Christina McCall, Ben desperately tries to postpone the execution so that he can find evidence that will exonerate his client.There is an entertaining subplot featuring Major Mike Morelli, Ben's former brother-in-law. Morelli is a homicide detective who is forced to pair up with a new partner, a woman who is as irritating as she is beautiful. Morelli and his partner get embroiled in Ben's case when several women connected with the investigation are found dead, both apparent suicides. Did these women really kill themselves or were they murdered?The plot thickens as Ben, Mike and their colleagues dig deeper and deeper to get at the truth of what really happened seven years ago. &quot;Death Row&quot; is an absorbing and hard-hitting thriller with many surprising twists and turns. The book is fast-paced and the humor is appropriately restrained considering the subject matter of the novel. I do have one or two quibbles, however. There are several coincidences in the book that make little sense. In addition, as in his previous books, Bernhardt persists in having Ben and Christina relate emotionally to one another like lovesick teenagers. It would be nice to see these two behave like mature adults. Still &quot;Death Row&quot; is one of the best Ben Kincaid novels that Bernhardt has written in years and I recommend it.",
         "Upon receiving his execution date, one of the thousands of men living on death row in the United States had an epiphany: “All there ever is, is this moment. You, me, all of us, right here, right now, this minute, that's love.” Right Here, Right Now collects the powerful, first-person stories of dozens of men on death rows across the country. From childhood experiences living with poverty, hunger, and violence to mental illness and police misconduct to coming to terms with their executions, these men outline their struggle to maintain their connection to society and sustain the humanity that incarceration and its daily insults attempt to extinguish. By offering their hopes, dreams, aspirations, fears, failures, and wounds, the men challenge us to reconsider whether our current justice system offers actual justice or simply perpetuates the social injustices that obscure our shared humanity.",
         "'Lynden Harris'",
         "'Social Science'",
         "Unpopular"
        ],
        [
         "4",
         "Sound and Form in Modern Poetry: Second Edition (Ann Arbor Paperbacks)",
         "32.5",
         "18/20",
         "good introduction to modern prosody",
         "There's a lot in this book which the reader will see repeated in other books on prosody -- an introductory chapter dealing with the relations between form and rhythm on one hand and content and meaning on the other; an analysis of the changes between Romantic versification and the modern period, beginning with the work of Dickinson, Hopkins, Hardy, and Whitman; the importance of the Imagists; the opening shots by Pound and Eliot in the Modernist revolution; and a few other topics.Most of the book is handled very well. It's refreshing to see an analysis of Browning's pentameter style which emphasizes not his &quot;colloquial&quot; approach, as so many others do, but instead lauds the extent to which he moves AWAY from the colloquial style and more toward roughness and jaggedness. The Modern period is handled with finesse as well. The drawbacks to the book, in my opinion, begin with the period closer to the present. Some of the analyses on free verse do not make as much sense as similar analyses in Paul Fussell's &quot;Poetic Meter and Poetic Form,&quot; despite the more recent volume's indebtedness to the former. As D. H. Lawrence said, it is no use manufacturing fancy laws for the governing of free verse. Too much weight is given to some poets who are clearly minor, such as Maxine Kumin, and too little to poets whose craftsmanship is unquestioned, such as Robert Lowell. Most oddly, there is no attention given to two of the finer formal craftsmen of recent history, James Merrill and Derek Walcott; these two use free verse but also expand the boundaries of traditional metrical approaches, and their efforts here should not go unnoticed. And I might take issue with the expanded coverage given to the most recent trend in prosody, the New Formalists, simply because, as I noted in my review of &quot;Rebel Angels&quot; for Amazon, they aren't that good and they haven't ADVANCED metrical techniques that much.Aside from these qualms, &quot;Sound and Form&quot; is a good survey of prosody of the ! last century.",
         "An updated and expanded version of a classic and essential text on prosody.",
         "'Harvey Seymour Gross', 'Robert McDowell'",
         "'Poetry'",
         "Unpopular"
        ]
       ],
       "shape": {
        "columns": 9,
        "rows": 5
       }
      },
      "text/html": [
       "<div>\n",
       "<style scoped>\n",
       "    .dataframe tbody tr th:only-of-type {\n",
       "        vertical-align: middle;\n",
       "    }\n",
       "\n",
       "    .dataframe tbody tr th {\n",
       "        vertical-align: top;\n",
       "    }\n",
       "\n",
       "    .dataframe thead th {\n",
       "        text-align: right;\n",
       "    }\n",
       "</style>\n",
       "<table border=\"1\" class=\"dataframe\">\n",
       "  <thead>\n",
       "    <tr style=\"text-align: right;\">\n",
       "      <th></th>\n",
       "      <th>title</th>\n",
       "      <th>price</th>\n",
       "      <th>review/helpfulness</th>\n",
       "      <th>review/summary</th>\n",
       "      <th>review/text</th>\n",
       "      <th>description</th>\n",
       "      <th>authors</th>\n",
       "      <th>categories</th>\n",
       "      <th>popularity</th>\n",
       "    </tr>\n",
       "  </thead>\n",
       "  <tbody>\n",
       "    <tr>\n",
       "      <th>0</th>\n",
       "      <td>We Band of Angels: The Untold Story of America...</td>\n",
       "      <td>10.88</td>\n",
       "      <td>2/3</td>\n",
       "      <td>A Great Book about women in WWII</td>\n",
       "      <td>I have alway been a fan of fiction books set i...</td>\n",
       "      <td>In the fall of 1941, the Philippines was a gar...</td>\n",
       "      <td>'Elizabeth Norman'</td>\n",
       "      <td>'History'</td>\n",
       "      <td>Unpopular</td>\n",
       "    </tr>\n",
       "    <tr>\n",
       "      <th>1</th>\n",
       "      <td>Prayer That Brings Revival: Interceding for Go...</td>\n",
       "      <td>9.35</td>\n",
       "      <td>0/0</td>\n",
       "      <td>Very helpful book for church prayer groups and...</td>\n",
       "      <td>Very helpful book to give you a better prayer ...</td>\n",
       "      <td>In Prayer That Brings Revival, best-selling au...</td>\n",
       "      <td>'Yong-gi Cho'</td>\n",
       "      <td>'Religion'</td>\n",
       "      <td>Unpopular</td>\n",
       "    </tr>\n",
       "    <tr>\n",
       "      <th>2</th>\n",
       "      <td>The Mystical Journey from Jesus to Christ</td>\n",
       "      <td>24.95</td>\n",
       "      <td>17/19</td>\n",
       "      <td>Universal Spiritual Awakening Guide With Some ...</td>\n",
       "      <td>The message of this book is to find yourself a...</td>\n",
       "      <td>THE MYSTICAL JOURNEY FROM JESUS TO CHRIST Disc...</td>\n",
       "      <td>'Muata Ashby'</td>\n",
       "      <td>'Body, Mind &amp; Spirit'</td>\n",
       "      <td>Unpopular</td>\n",
       "    </tr>\n",
       "    <tr>\n",
       "      <th>3</th>\n",
       "      <td>Death Row</td>\n",
       "      <td>7.99</td>\n",
       "      <td>0/1</td>\n",
       "      <td>Ben Kincaid tries to stop an execution.</td>\n",
       "      <td>The hero of William Bernhardt's Ben Kincaid no...</td>\n",
       "      <td>Upon receiving his execution date, one of the ...</td>\n",
       "      <td>'Lynden Harris'</td>\n",
       "      <td>'Social Science'</td>\n",
       "      <td>Unpopular</td>\n",
       "    </tr>\n",
       "    <tr>\n",
       "      <th>4</th>\n",
       "      <td>Sound and Form in Modern Poetry: Second Editio...</td>\n",
       "      <td>32.50</td>\n",
       "      <td>18/20</td>\n",
       "      <td>good introduction to modern prosody</td>\n",
       "      <td>There's a lot in this book which the reader wi...</td>\n",
       "      <td>An updated and expanded version of a classic a...</td>\n",
       "      <td>'Harvey Seymour Gross', 'Robert McDowell'</td>\n",
       "      <td>'Poetry'</td>\n",
       "      <td>Unpopular</td>\n",
       "    </tr>\n",
       "  </tbody>\n",
       "</table>\n",
       "</div>"
      ],
      "text/plain": [
       "                                               title  price  \\\n",
       "0  We Band of Angels: The Untold Story of America...  10.88   \n",
       "1  Prayer That Brings Revival: Interceding for Go...   9.35   \n",
       "2          The Mystical Journey from Jesus to Christ  24.95   \n",
       "3                                          Death Row   7.99   \n",
       "4  Sound and Form in Modern Poetry: Second Editio...  32.50   \n",
       "\n",
       "  review/helpfulness                                     review/summary  \\\n",
       "0                2/3                   A Great Book about women in WWII   \n",
       "1                0/0  Very helpful book for church prayer groups and...   \n",
       "2              17/19  Universal Spiritual Awakening Guide With Some ...   \n",
       "3                0/1            Ben Kincaid tries to stop an execution.   \n",
       "4              18/20                good introduction to modern prosody   \n",
       "\n",
       "                                         review/text  \\\n",
       "0  I have alway been a fan of fiction books set i...   \n",
       "1  Very helpful book to give you a better prayer ...   \n",
       "2  The message of this book is to find yourself a...   \n",
       "3  The hero of William Bernhardt's Ben Kincaid no...   \n",
       "4  There's a lot in this book which the reader wi...   \n",
       "\n",
       "                                         description  \\\n",
       "0  In the fall of 1941, the Philippines was a gar...   \n",
       "1  In Prayer That Brings Revival, best-selling au...   \n",
       "2  THE MYSTICAL JOURNEY FROM JESUS TO CHRIST Disc...   \n",
       "3  Upon receiving his execution date, one of the ...   \n",
       "4  An updated and expanded version of a classic a...   \n",
       "\n",
       "                                     authors             categories popularity  \n",
       "0                         'Elizabeth Norman'              'History'  Unpopular  \n",
       "1                              'Yong-gi Cho'             'Religion'  Unpopular  \n",
       "2                              'Muata Ashby'  'Body, Mind & Spirit'  Unpopular  \n",
       "3                            'Lynden Harris'       'Social Science'  Unpopular  \n",
       "4  'Harvey Seymour Gross', 'Robert McDowell'               'Poetry'  Unpopular  "
      ]
     },
     "execution_count": 2,
     "metadata": {},
     "output_type": "execute_result"
    }
   ],
   "source": [
    "# Read in the dataset\n",
    "books = pd.read_csv(\"data/books.csv\")\n",
    "\n",
    "# Preview the first five rows\n",
    "books.head()"
   ]
  },
  {
   "cell_type": "code",
   "execution_count": 3,
   "id": "60895540",
   "metadata": {},
   "outputs": [
    {
     "data": {
      "text/plain": [
       "np.int64(0)"
      ]
     },
     "execution_count": 3,
     "metadata": {},
     "output_type": "execute_result"
    }
   ],
   "source": [
    "books.price.isnull().sum()"
   ]
  },
  {
   "cell_type": "code",
   "execution_count": 4,
   "id": "564577b6",
   "metadata": {},
   "outputs": [
    {
     "data": {
      "text/plain": [
       "<Axes: >"
      ]
     },
     "execution_count": 4,
     "metadata": {},
     "output_type": "execute_result"
    },
    {
     "data": {
      "image/png": "[encoded data removed]",
      "text/plain": [
       "<Figure size 640x480 with 1 Axes>"
      ]
     },
     "metadata": {},
     "output_type": "display_data"
    }
   ],
   "source": [
    "\n",
    "books['price'].hist()"
   ]
  },
  {
   "cell_type": "code",
   "execution_count": 5,
   "id": "0c421677",
   "metadata": {},
   "outputs": [
    {
     "name": "stdout",
     "output_type": "stream",
     "text": [
      "<class 'pandas.core.frame.DataFrame'>\n",
      "RangeIndex: 15719 entries, 0 to 15718\n",
      "Data columns (total 9 columns):\n",
      " #   Column              Non-Null Count  Dtype  \n",
      "---  ------              --------------  -----  \n",
      " 0   title               15719 non-null  object \n",
      " 1   price               15719 non-null  float64\n",
      " 2   review/helpfulness  15719 non-null  object \n",
      " 3   review/summary      15718 non-null  object \n",
      " 4   review/text         15719 non-null  object \n",
      " 5   description         15719 non-null  object \n",
      " 6   authors             15719 non-null  object \n",
      " 7   categories          15719 non-null  object \n",
      " 8   popularity          15719 non-null  object \n",
      "dtypes: float64(1), object(8)\n",
      "memory usage: 1.1+ MB\n"
     ]
    }
   ],
   "source": [
    "books.info()"
   ]
  },
  {
   "cell_type": "code",
   "execution_count": 6,
   "id": "a5cb9505",
   "metadata": {},
   "outputs": [
    {
     "data": {
      "text/plain": [
       "array(['Unpopular', 'Popular'], dtype=object)"
      ]
     },
     "execution_count": 6,
     "metadata": {},
     "output_type": "execute_result"
    }
   ],
   "source": [
    "# Verify the number of unique values in the 'popularity' column\n",
    "# This will help us understand the target variable\n",
    "books['popularity'].unique()"
   ]
  },
  {
   "cell_type": "code",
   "execution_count": 7,
   "id": "69245e4c",
   "metadata": {},
   "outputs": [
    {
     "data": {
      "text/plain": [
       "title\n",
       "Eldest (Inheritance, Book 2)                                             90\n",
       "Hannibal                                                                 85\n",
       "Jane Eyre (Large Print)                                                  70\n",
       "A Tale of Two Cities - Literary Touchstone Edition                       55\n",
       "Jane Eyre (New Windmill)                                                 51\n",
       "                                                                         ..\n",
       "When God Speaks: How to Interpret Dreams, Visions, Signs and Wonders      1\n",
       "Parallel Programming in OpenMP                                            1\n",
       "The Exiles: Chantel (The Creoles, Book 1)                                 1\n",
       "The Metaphor of God Incarnate                                             1\n",
       "Organizing to Win: New Research on Union Strategies (Ilr Press Books)     1\n",
       "Name: count, Length: 6985, dtype: int64"
      ]
     },
     "execution_count": 7,
     "metadata": {},
     "output_type": "execute_result"
    }
   ],
   "source": [
    "# Check the distribution of the title column\n",
    "books['title'].value_counts()"
   ]
  },
  {
   "cell_type": "code",
   "execution_count": 8,
   "id": "08ee94bc",
   "metadata": {},
   "outputs": [
    {
     "data": {
      "text/plain": [
       "authors\n",
       "'Charles Dickens'                                                                                        109\n",
       "'Christopher Paolini'                                                                                     90\n",
       "'Thomas Harris'                                                                                           85\n",
       "'Charlotte Brontë', 'Marc Cactus'                                                                         70\n",
       "'Charlotte Brontë'                                                                                        51\n",
       "                                                                                                        ... \n",
       "'Gilbert Morris'                                                                                           1\n",
       "'John Hick'                                                                                                1\n",
       "'Ira Flatow'                                                                                               1\n",
       "'Sam Deep', 'Lyle Sussman'                                                                                 1\n",
       "'Kate Bronfenbrenner', 'Sheldon Friedman', 'Richard W. Hurd', 'Rudolph A. Oswald', 'Ronald L. Seeber'      1\n",
       "Name: count, Length: 6447, dtype: int64"
      ]
     },
     "execution_count": 8,
     "metadata": {},
     "output_type": "execute_result"
    }
   ],
   "source": [
    "# Check the distribution of the authors column\n",
    "books['authors'].value_counts()"
   ]
  },
  {
   "cell_type": "code",
   "execution_count": 9,
   "id": "452a496f",
   "metadata": {},
   "outputs": [
    {
     "data": {
      "text/plain": [
       "authors\n",
       "\"Alfred D'Auberge\", 'Morton Manus'                                         1.0\n",
       "'Kay Pastorius'                                                            1.0\n",
       "'Ellen Kirschman'                                                          1.0\n",
       "'Ellen Marshall'                                                           1.0\n",
       "'Scott Oaks', 'Bernard Traversat', 'Li Gong'                               1.0\n",
       "                                                                          ... \n",
       "'Joachim Engelmann'                                                        0.0\n",
       "'Joachim Rossberg', 'Rickard Redler'                                       0.0\n",
       "'Joan Coles', 'Clarence Coles', 'Seloc Publications', 'Nichols / Seloc'    0.0\n",
       "'Joan Grant'                                                               0.0\n",
       "'刘珣'                                                                       0.0\n",
       "Name: count, Length: 6447, dtype: float64"
      ]
     },
     "execution_count": 9,
     "metadata": {},
     "output_type": "execute_result"
    }
   ],
   "source": [
    "# Check what are the most popular authors\n",
    "(books[books['popularity'] == 'Popular']['authors'].value_counts() / books['authors'].value_counts()).fillna(0).sort_values(ascending=False)"
   ]
  },
  {
   "cell_type": "code",
   "execution_count": 10,
   "id": "a79df867",
   "metadata": {},
   "outputs": [
    {
     "data": {
      "text/plain": [
       "count     313.000000\n",
       "mean       50.220447\n",
       "std       233.359026\n",
       "min         1.000000\n",
       "25%         1.000000\n",
       "50%         2.000000\n",
       "75%         5.000000\n",
       "max      3520.000000\n",
       "Name: count, dtype: float64"
      ]
     },
     "execution_count": 10,
     "metadata": {},
     "output_type": "execute_result"
    }
   ],
   "source": [
    "# Check the distribution of the categories column\n",
    "books['categories'].value_counts().describe()"
   ]
  },
  {
   "cell_type": "code",
   "execution_count": 11,
   "id": "7ddfb6ea",
   "metadata": {},
   "outputs": [
    {
     "data": {
      "text/plain": [
       "array([\"'History'\", \"'Religion'\", \"'Body, Mind & Spirit'\",\n",
       "       \"'Social Science'\", \"'Poetry'\", \"'Music'\",\n",
       "       \"'Biography & Autobiography'\", \"'Science'\",\n",
       "       \"'Business & Economics'\", \"'Fiction'\", \"'Juvenile Fiction'\",\n",
       "       \"'Antiques & Collectibles'\", \"'Political Science'\", \"'Travel'\",\n",
       "       \"'Nature'\", \"'Fourth dimension'\", \"'Computers'\",\n",
       "       \"'Health & Fitness'\", \"'Pets'\", \"'Self-Help'\",\n",
       "       \"'Family & Relationships'\", \"'Audiobooks'\",\n",
       "       \"'Young Adult Fiction'\", \"'Humor'\",\n",
       "       \"'Executions and executioners'\", \"'Cooking'\", \"'Transportation'\",\n",
       "       \"'Historical fiction'\", \"'American fiction'\",\n",
       "       \"'Comics & Graphic Novels'\", \"'Games'\", \"'Law'\", \"'Psychology'\",\n",
       "       \"'Education'\", \"'Technology & Engineering'\", \"'Charity-schools'\",\n",
       "       \"'Drama'\", \"'Sports & Recreation'\", \"'House & Home'\",\n",
       "       \"'Juvenile Nonfiction'\", \"'Games & Activities'\", \"'Gardening'\",\n",
       "       \"'Crafts & Hobbies'\", \"'Literary Criticism'\", \"'Photography'\",\n",
       "       \"'Philosophy'\", \"'Beauty, Personal'\", \"'Foreign Language Study'\",\n",
       "       \"'Counterculture'\", \"'Design'\", \"'Country homes'\",\n",
       "       \"'Performing Arts'\", \"'Bibles'\", \"'Interior decoration'\", \"'Art'\",\n",
       "       \"'Medical'\", \"'Lebanon'\", \"'Behavior'\", \"'Avarice'\",\n",
       "       \"'Mathematics'\", \"'Authorship'\", \"'Language Arts & Disciplines'\",\n",
       "       \"'Mushrooms'\", \"'True Crime'\", \"'Literary Collections'\",\n",
       "       \"'Case-based reasoning'\", \"'Good and evil'\", \"'Books and reading'\",\n",
       "       \"'Japan'\", \"'Reference'\", \"'Alcoholic beverages'\",\n",
       "       \"'Architecture'\", \"'Finance, Public'\", \"'Animals'\", \"'Adoptees'\",\n",
       "       \"'Crystals'\", \"'Motherhood'\", \"'SAP R/3'\",\n",
       "       \"'Organizational behavior'\", \"'Holocaust, Jewish (1939-1945)'\",\n",
       "       \"'Microsoft .NET Framework'\", \"'Apostles'\", \"'Child psychology'\",\n",
       "       \"'Christmas'\", \"'Courage'\", \"'Autism'\", \"'Actresses'\",\n",
       "       \"'Afghanistan'\", \"'Jamaica'\", \"'Fairy tales'\", \"'Communism'\",\n",
       "       \"'Gambling systems'\", \"'Study Aids'\", \"'Young Adult Nonfiction'\",\n",
       "       \"'FAMILY & RELATIONSHIPS'\", \"'Bible'\",\n",
       "       \"'Paranormal romance stories'\", \"'Business networks'\",\n",
       "       \"'44 Scotland Street (Edinburgh, Scotland : Imaginary place)'\",\n",
       "       \"'Abused children'\", \"'Conspiracies'\",\n",
       "       \"'Detective and mystery stories, American'\", \"'Clairvoyants'\",\n",
       "       \"'Honesty'\", \"'Codependency'\", \"'Housing'\", \"'Education, Higher'\",\n",
       "       \"'African American civil rights workers'\", \"'Fairies'\",\n",
       "       \"'Large type books'\", \"'Gifts'\", \"'Children with disabilities'\",\n",
       "       \"'COMICS & GRAPHIC NOVELS.'\", \"'United States'\", \"'FICTION'\",\n",
       "       \"'Rock musicians'\", \"'Domestic fiction'\",\n",
       "       \"'Carbohydrates, Refined'\", \"'Horses'\",\n",
       "       \"'Diplomatic and consular service'\",\n",
       "       \"'LANGUAGE ARTS & DISCIPLINES'\", \"'French drama'\",\n",
       "       \"'Detective and mystery stories'\",\n",
       "       \"'African American journalists'\", \"'Agriculture'\",\n",
       "       \"'Art oratoire'\", \"'Bosch, Harry (Fictitious character)'\",\n",
       "       \"'BIOGRAPHY & AUTOBIOGRAPHY'\", \"'Clothing and dress'\",\n",
       "       \"'Christian life'\", \"'Conversation'\", \"'Indiana'\",\n",
       "       \"'Simonov carbine'\", \"'Memory'\", \"'Indians of North America'\",\n",
       "       \"'Czech fiction'\", \"'War stories'\", \"'Dramatists, English'\",\n",
       "       \"'Crimes without victims'\", \"'Bilingual'\", \"'English language'\",\n",
       "       \"'Adobe Acrobat'\", \"'Basil.'\", \"'Outdoor recreation'\",\n",
       "       \"'Assisi (Italy)'\", \"'Bkaʼ-gdams-pa (Sect)'\",\n",
       "       \"'Adjoining landowners'\", \"'Handicraft'\", \"'Hell'\",\n",
       "       \"'Bodybuilding'\", \"'Anger'\", \"'Baseball'\",\n",
       "       \"'Brothers and sisters'\", \"'Hairdressing'\", \"'Hanukkah'\",\n",
       "       \"'Hindu hymns'\", \"'Sex instruction for men'\", \"'Fruit'\", \"'Agape'\",\n",
       "       \"'Horror films'\", \"'Algebra'\", \"'Meat'\",\n",
       "       \"'Cadfael, Brother (Fictitious character)'\", \"'Business planning'\",\n",
       "       \"'Mortars (Ordnance)'\", \"'Athens (Greece)'\",\n",
       "       \"'Commercial real estate'\", \"'Country life'\", \"'Cake decorating'\",\n",
       "       \"'Denali National Park and Preserve (Alaska)'\",\n",
       "       '\"Children\\'s stories\"', \"'Language and languages'\",\n",
       "       \"'Extraterrestrial beings'\", \"'Finance, Personal'\",\n",
       "       \"'Fantasy fiction'\", \"'African Americans'\",\n",
       "       \"'Hand-to-hand fighting'\", \"'Avocado'\",\n",
       "       \"'Casanova De Seingalt, Giacomo Girolamo, 1725-1798'\", \"'NATURE'\",\n",
       "       \"'St. Albans (England)'\", \"'Betterments'\",\n",
       "       \"'Mexican American tales'\", \"'Crime'\", \"'Historical geography'\",\n",
       "       \"'Kung fu'\", \"'Desserts'\", \"'Africa, Sub-Saharan'\",\n",
       "       \"'World War, 1914-1918'\", \"'Comic books, strips, etc'\",\n",
       "       \"'Computer network protocols'\", \"'Israeli fiction'\", \"'Clouds'\",\n",
       "       \"'Leadership'\", \"'Food'\", \"'Business cycles'\",\n",
       "       \"'Carving (Meat, etc.)'\", \"'Board books'\", \"'Arctic regions'\",\n",
       "       \"'Turning (Lathe work)'\", \"'Mormon Church'\",\n",
       "       '\"Children\\'s poetry, English\"',\n",
       "       \"'Dalziel, Andrew (Fictitious character)'\",\n",
       "       \"'Colombo (Sri Lanka)'\", \"'Children'\", \"'Insurance agents'\",\n",
       "       \"'Captain Underpants (Fictitious character)'\", \"'Presidents'\",\n",
       "       \"'Detective and mystery stories, English'\", \"'Immigrants'\",\n",
       "       \"'Note-taking'\", \"'Friendship'\", \"'Love stories'\", \"'Cats'\",\n",
       "       \"'Self-confidence'\", \"'Sunflowers'\",\n",
       "       \"'Charlie (Fictitious character : Child)'\", \"'Astronauts'\",\n",
       "       \"'Lesbians'\", \"'Twi language'\", \"'Decoration and ornament'\",\n",
       "       \"'Deverry (Imaginary place)'\", \"'Australia'\", \"'Dieu - Amour'\",\n",
       "       \"'JUVENILE NONFICTION'\", \"'Leeward Islands (West Indies)'\",\n",
       "       \"'HISTORY'\", \"'Silhouettes'\", \"'Arson'\", \"'Current Events'\",\n",
       "       \"'Putting (Golf)'\", \"'Werewolves'\", \"'Child Welfare'\",\n",
       "       \"'Colombia'\", \"'Cooking (Spices)'\", \"'Dominican Republic'\",\n",
       "       '\"Children\\'s poetry\"', \"'Insects'\", \"'Apologetics'\", \"'Hinduism'\",\n",
       "       \"'Dogs'\", \"'Bullies'\", \"'Cookery'\", \"'Attitude (Psychology)'\",\n",
       "       \"'Balsan, Consuelo Vanderbilt'\", \"'Colors'\", \"'COMPUTERS'\",\n",
       "       \"'Church year meditations'\", \"'Differential equations'\",\n",
       "       \"'Camping'\", \"'Counting'\", \"'Business forecasting'\",\n",
       "       \"'Painting, Modern'\", \"'Hobo spider'\", \"'World War, 1939-1945'\",\n",
       "       \"'Hopi Indians'\", \"'Chicago (Ill.)'\", \"'Faith'\", \"'Anthroposophy'\",\n",
       "       \"'Ghosts'\", \"'Mystery.'\", \"'Hippies'\", \"'Restaurant management'\",\n",
       "       \"'Salvation'\", \"'Organizational change'\", \"'Invective'\",\n",
       "       \"'Nutrition'\", \"'Canada'\", \"'Child rearing'\",\n",
       "       \"'Detective and mystery comic books, strips, etc'\", \"'Diaries'\",\n",
       "       \"'Digital media'\", \"'Adultery'\", \"'Back Bay (Boston, Mass.)'\",\n",
       "       \"'Boys'\", \"'Cycles'\", \"'Concentration camps'\",\n",
       "       \"'Sinclair, Paul (Fictitious character)'\", \"'Impressionism'\",\n",
       "       \"'College student orientation'\", \"'Jacobites'\", \"'Death & dying'\",\n",
       "       \"'Spiritual life'\", \"'English fiction'\",\n",
       "       \"'Bakersfield Region (Calif.)'\", \"'Automobile mechanics'\",\n",
       "       \"'Boxcar children (Fictitous characters)'\", \"'Decorative arts'\",\n",
       "       \"'Motion pictures'\", \"'Composition (Music)'\",\n",
       "       \"'Expectation (Psychology)'\", \"'Classical drama'\",\n",
       "       \"'Courtroom artists'\", \"'Greece'\", \"'Teachers'\", \"'COOKING'\",\n",
       "       \"'Environmental protection'\", \"'Bands (Music)'\",\n",
       "       \"'Commercial correspondence'\", \"'Behavior disorders in children'\",\n",
       "       \"'Best sellers'\", \"'ISO 9000 Series Standards'\",\n",
       "       \"'Project management'\", \"'Flags'\", \"'Second Advent'\",\n",
       "       \"'Medicine, Tibetan'\", \"'Conduct of life'\", \"'Rabbits'\",\n",
       "       \"'Diabetes'\", '\"Children\\'s encyclopedias and dictionaries\"',\n",
       "       \"'Paris'\", \"'Film posters, American'\", \"'Asthma'\"], dtype=object)"
      ]
     },
     "execution_count": 11,
     "metadata": {},
     "output_type": "execute_result"
    }
   ],
   "source": [
    "books['categories'].unique()"
   ]
  },
  {
   "cell_type": "markdown",
   "id": "a5b7a839",
   "metadata": {},
   "source": [
    "# Feature Engineering"
   ]
  },
  {
   "cell_type": "code",
   "execution_count": 12,
   "id": "bd20c499",
   "metadata": {},
   "outputs": [],
   "source": [
    "books_transformed = books.copy()"
   ]
  },
  {
   "cell_type": "code",
   "execution_count": 13,
   "id": "a7123e68",
   "metadata": {},
   "outputs": [],
   "source": [
    "# Convert review/helpfulness to numeric\n",
    "books_transformed[['helpful', 'reviews']] = books_transformed['review/helpfulness'].str.split('/', expand=True).astype(int)\n",
    "books_transformed = books_transformed.drop(columns=['review/helpfulness'])"
   ]
  },
  {
   "cell_type": "code",
   "execution_count": 14,
   "id": "9831d084",
   "metadata": {},
   "outputs": [],
   "source": [
    "books_transformed[['authors', 'categories']] = books_transformed[['authors', 'categories']].apply(lambda x: x.str.replace(\"'\", ''))"
   ]
  },
  {
   "cell_type": "code",
   "execution_count": 15,
   "id": "aea4fa46",
   "metadata": {},
   "outputs": [],
   "source": [
    "books_transformed['popularity'] = books_transformed['popularity'].map({'Popular': 1, 'Unpopular': 0})"
   ]
  },
  {
   "cell_type": "code",
   "execution_count": 16,
   "id": "a70ff89b",
   "metadata": {},
   "outputs": [],
   "source": [
    "books_transformed['review/summary'] = books_transformed['review/summary'].apply(\n",
    "    lambda x: \n",
    "    TextBlob(x).sentiment.polarity if isinstance(x, str) else np.nan\n",
    ")\n",
    "books_transformed['review/text'] = books_transformed['review/text'].apply(\n",
    "    lambda x: \n",
    "    TextBlob(x).sentiment.polarity if isinstance(x, str) else np.nan\n",
    ")"
   ]
  },
  {
   "cell_type": "code",
   "execution_count": 17,
   "id": "cd86b048",
   "metadata": {},
   "outputs": [
    {
     "data": {
      "application/vnd.microsoft.datawrangler.viewer.v0+json": {
       "columns": [
        {
         "name": "index",
         "rawType": "int64",
         "type": "integer"
        },
        {
         "name": "title",
         "rawType": "object",
         "type": "string"
        },
        {
         "name": "price",
         "rawType": "float64",
         "type": "float"
        },
        {
         "name": "review/summary",
         "rawType": "float64",
         "type": "float"
        },
        {
         "name": "review/text",
         "rawType": "float64",
         "type": "float"
        },
        {
         "name": "description",
         "rawType": "object",
         "type": "string"
        },
        {
         "name": "authors",
         "rawType": "object",
         "type": "string"
        },
        {
         "name": "categories",
         "rawType": "object",
         "type": "string"
        },
        {
         "name": "popularity",
         "rawType": "int64",
         "type": "integer"
        },
        {
         "name": "helpful",
         "rawType": "int64",
         "type": "integer"
        },
        {
         "name": "reviews",
         "rawType": "int64",
         "type": "integer"
        }
       ],
       "conversionMethod": "pd.DataFrame",
       "ref": "e00492b9-3e6a-40a8-8d21-52a81fa04496",
       "rows": [
        [
         "0",
         "We Band of Angels: The Untold Story of American Nurses Trapped on Bataan by the Japanese",
         "10.88",
         "0.8",
         "0.33",
         "In the fall of 1941, the Philippines was a gardenia-scented paradise for the American Army and Navy nurses stationed there. War was a distant rumor, life a routine of easy shifts and dinners under the stars. On December 8 all that changed, as Japanese bombs began raining down on American bases in Luzon, and this paradise became a fiery hell. Caught in the raging battle, the nurses set up field hospitals in the jungles of Bataan and the tunnels of Corregidor, where they tended to the most devastating injuries of war, and suffered the terrors of shells and shrapnel. But the worst was yet to come. After Bataan and Corregidor fell, the nurses were herded into internment camps where they would endure three years of fear, brutality, and starvation. Once liberated, they returned to an America that at first celebrated them, but later refused to honor their leaders with the medals they clearly deserved. Here, in letters, diaries, and riveting firsthand accounts, is the story of what really happened during those dark days, woven together in a deeply affecting saga of women in war. Praise for We Band of Angels “Gripping . . . a war story in which the main characters never kill one of the enemy, or even shoot at him, but are nevertheless heroes . . . Americans today should thank God we had such women.”—Stephen E. Ambrose “Remarkable and uplifting.”—USA Today “[Elizabeth M. Norman] brings a quiet, scholarly voice to this narrative. . . . In just a little over six months these women had turned from plucky young girls on a mild adventure to authentic heroes. . . . Every page of this history is fascinating.”—Carolyn See, The Washington Post “Riveting . . . poignant and powerful.”—The Dallas Morning News Winner of the Lavinia Dock Award for historical scholarship, the American Academy of Nursing National Media Award, and the Agnes Dillon Randolph Award",
         "Elizabeth Norman",
         "History",
         "0",
         "2",
         "3"
        ],
        [
         "1",
         "Prayer That Brings Revival: Interceding for God to move in your family, church, and community",
         "9.35",
         "0.2",
         "0.4333333333333333",
         "In Prayer That Brings Revival, best-selling author David Yonggi Cho shares key principles to having the kind of prayer life that will move your mountains and stir revival in home, church, and community. This book will: -Show you how prayer produces power. -Teach you the key to prayer and fasting. -Prepare you to wait on the Lord. -Help you to pray longer, with more persistence. -Instruct you on how to listen to God's voice.",
         "Yong-gi Cho",
         "Religion",
         "0",
         "0",
         "0"
        ],
        [
         "2",
         "The Mystical Journey from Jesus to Christ",
         "24.95",
         "0.0",
         "0.0015028759820426413",
         "THE MYSTICAL JOURNEY FROM JESUS TO CHRIST Discover the ancient Egyptian origins of Christianity before the Catholic Church and learn the mystical teachings given by Jesus to assist all humanity in becoming Christlike. Discover the secret meaning of the Gospels that were discovered in Egypt. Also discover how and why so many Christian churches came into being. Discover that the Bible still holds the keys to mystical realization even though its original writings were changed by the church. Discover how to practice the original teachings of Christianity which leads to the Kingdom of Heaven.",
         "Muata Ashby",
         "Body, Mind & Spirit",
         "0",
         "17",
         "19"
        ],
        [
         "3",
         "Death Row",
         "7.99",
         "-0.1",
         "0.10006447453255964",
         "Upon receiving his execution date, one of the thousands of men living on death row in the United States had an epiphany: “All there ever is, is this moment. You, me, all of us, right here, right now, this minute, that's love.” Right Here, Right Now collects the powerful, first-person stories of dozens of men on death rows across the country. From childhood experiences living with poverty, hunger, and violence to mental illness and police misconduct to coming to terms with their executions, these men outline their struggle to maintain their connection to society and sustain the humanity that incarceration and its daily insults attempt to extinguish. By offering their hopes, dreams, aspirations, fears, failures, and wounds, the men challenge us to reconsider whether our current justice system offers actual justice or simply perpetuates the social injustices that obscure our shared humanity.",
         "Lynden Harris",
         "Social Science",
         "0",
         "0",
         "1"
        ],
        [
         "4",
         "Sound and Form in Modern Poetry: Second Edition (Ann Arbor Paperbacks)",
         "32.5",
         "0.44999999999999996",
         "0.1668512043512044",
         "An updated and expanded version of a classic and essential text on prosody.",
         "Harvey Seymour Gross, Robert McDowell",
         "Poetry",
         "0",
         "18",
         "20"
        ]
       ],
       "shape": {
        "columns": 10,
        "rows": 5
       }
      },
      "text/html": [
       "<div>\n",
       "<style scoped>\n",
       "    .dataframe tbody tr th:only-of-type {\n",
       "        vertical-align: middle;\n",
       "    }\n",
       "\n",
       "    .dataframe tbody tr th {\n",
       "        vertical-align: top;\n",
       "    }\n",
       "\n",
       "    .dataframe thead th {\n",
       "        text-align: right;\n",
       "    }\n",
       "</style>\n",
       "<table border=\"1\" class=\"dataframe\">\n",
       "  <thead>\n",
       "    <tr style=\"text-align: right;\">\n",
       "      <th></th>\n",
       "      <th>title</th>\n",
       "      <th>price</th>\n",
       "      <th>review/summary</th>\n",
       "      <th>review/text</th>\n",
       "      <th>description</th>\n",
       "      <th>authors</th>\n",
       "      <th>categories</th>\n",
       "      <th>popularity</th>\n",
       "      <th>helpful</th>\n",
       "      <th>reviews</th>\n",
       "    </tr>\n",
       "  </thead>\n",
       "  <tbody>\n",
       "    <tr>\n",
       "      <th>0</th>\n",
       "      <td>We Band of Angels: The Untold Story of America...</td>\n",
       "      <td>10.88</td>\n",
       "      <td>0.80</td>\n",
       "      <td>0.330000</td>\n",
       "      <td>In the fall of 1941, the Philippines was a gar...</td>\n",
       "      <td>Elizabeth Norman</td>\n",
       "      <td>History</td>\n",
       "      <td>0</td>\n",
       "      <td>2</td>\n",
       "      <td>3</td>\n",
       "    </tr>\n",
       "    <tr>\n",
       "      <th>1</th>\n",
       "      <td>Prayer That Brings Revival: Interceding for Go...</td>\n",
       "      <td>9.35</td>\n",
       "      <td>0.20</td>\n",
       "      <td>0.433333</td>\n",
       "      <td>In Prayer That Brings Revival, best-selling au...</td>\n",
       "      <td>Yong-gi Cho</td>\n",
       "      <td>Religion</td>\n",
       "      <td>0</td>\n",
       "      <td>0</td>\n",
       "      <td>0</td>\n",
       "    </tr>\n",
       "    <tr>\n",
       "      <th>2</th>\n",
       "      <td>The Mystical Journey from Jesus to Christ</td>\n",
       "      <td>24.95</td>\n",
       "      <td>0.00</td>\n",
       "      <td>0.001503</td>\n",
       "      <td>THE MYSTICAL JOURNEY FROM JESUS TO CHRIST Disc...</td>\n",
       "      <td>Muata Ashby</td>\n",
       "      <td>Body, Mind &amp; Spirit</td>\n",
       "      <td>0</td>\n",
       "      <td>17</td>\n",
       "      <td>19</td>\n",
       "    </tr>\n",
       "    <tr>\n",
       "      <th>3</th>\n",
       "      <td>Death Row</td>\n",
       "      <td>7.99</td>\n",
       "      <td>-0.10</td>\n",
       "      <td>0.100064</td>\n",
       "      <td>Upon receiving his execution date, one of the ...</td>\n",
       "      <td>Lynden Harris</td>\n",
       "      <td>Social Science</td>\n",
       "      <td>0</td>\n",
       "      <td>0</td>\n",
       "      <td>1</td>\n",
       "    </tr>\n",
       "    <tr>\n",
       "      <th>4</th>\n",
       "      <td>Sound and Form in Modern Poetry: Second Editio...</td>\n",
       "      <td>32.50</td>\n",
       "      <td>0.45</td>\n",
       "      <td>0.166851</td>\n",
       "      <td>An updated and expanded version of a classic a...</td>\n",
       "      <td>Harvey Seymour Gross, Robert McDowell</td>\n",
       "      <td>Poetry</td>\n",
       "      <td>0</td>\n",
       "      <td>18</td>\n",
       "      <td>20</td>\n",
       "    </tr>\n",
       "  </tbody>\n",
       "</table>\n",
       "</div>"
      ],
      "text/plain": [
       "                                               title  price  review/summary  \\\n",
       "0  We Band of Angels: The Untold Story of America...  10.88            0.80   \n",
       "1  Prayer That Brings Revival: Interceding for Go...   9.35            0.20   \n",
       "2          The Mystical Journey from Jesus to Christ  24.95            0.00   \n",
       "3                                          Death Row   7.99           -0.10   \n",
       "4  Sound and Form in Modern Poetry: Second Editio...  32.50            0.45   \n",
       "\n",
       "   review/text                                        description  \\\n",
       "0     0.330000  In the fall of 1941, the Philippines was a gar...   \n",
       "1     0.433333  In Prayer That Brings Revival, best-selling au...   \n",
       "2     0.001503  THE MYSTICAL JOURNEY FROM JESUS TO CHRIST Disc...   \n",
       "3     0.100064  Upon receiving his execution date, one of the ...   \n",
       "4     0.166851  An updated and expanded version of a classic a...   \n",
       "\n",
       "                                 authors           categories  popularity  \\\n",
       "0                       Elizabeth Norman              History           0   \n",
       "1                            Yong-gi Cho             Religion           0   \n",
       "2                            Muata Ashby  Body, Mind & Spirit           0   \n",
       "3                          Lynden Harris       Social Science           0   \n",
       "4  Harvey Seymour Gross, Robert McDowell               Poetry           0   \n",
       "\n",
       "   helpful  reviews  \n",
       "0        2        3  \n",
       "1        0        0  \n",
       "2       17       19  \n",
       "3        0        1  \n",
       "4       18       20  "
      ]
     },
     "execution_count": 17,
     "metadata": {},
     "output_type": "execute_result"
    }
   ],
   "source": [
    "books_transformed.head()"
   ]
  },
  {
   "cell_type": "markdown",
   "id": "4ee5e1b2",
   "metadata": {},
   "source": [
    "# Preprocessing"
   ]
  },
  {
   "cell_type": "code",
   "execution_count": 18,
   "id": "4f738724",
   "metadata": {},
   "outputs": [],
   "source": [
    "transformer = ColumnTransformer(\n",
    "    transformers=[\n",
    "        ('title_tfidf', TfidfVectorizer(stop_words='english'), 'title'),\n",
    "        ('description_tfidf', TfidfVectorizer(stop_words='english'), 'description'),\n",
    "        ('authors_tfidf', TfidfVectorizer(token_pattern=r'[^,\\n]+', stop_words='english'), 'authors'),\n",
    "        ('categories_tfidf', TfidfVectorizer(stop_words='english'), 'categories'),\n",
    "        ('num', StandardScaler(), ['price', 'reviews', 'helpful']),\n",
    "    ],\n",
    "    remainder='passthrough'\n",
    ")"
   ]
  },
  {
   "cell_type": "markdown",
   "id": "b041f32a",
   "metadata": {},
   "source": [
    "# Model"
   ]
  },
  {
   "cell_type": "code",
   "execution_count": 19,
   "id": "7479e624",
   "metadata": {},
   "outputs": [],
   "source": [
    "X = books_transformed.drop(columns=['popularity']).fillna(0)\n",
    "y = books_transformed['popularity']"
   ]
  },
  {
   "cell_type": "code",
   "execution_count": null,
   "id": "795e6ade",
   "metadata": {},
   "outputs": [],
   "source": [
    "model = LogisticRegression(\n",
    "    solver='liblinear',\n",
    "    penalty='l2',\n",
    "    C=1.,\n",
    "    max_iter=1000,\n",
    "    random_state=42\n",
    ")"
   ]
  },
  {
   "cell_type": "code",
   "execution_count": 27,
   "id": "cd152477",
   "metadata": {},
   "outputs": [],
   "source": [
    "pipeline = Pipeline(steps=[\n",
    "    ('transformer', transformer),\n",
    "    ('classifier', model)\n",
    "])"
   ]
  },
  {
   "cell_type": "markdown",
   "id": "bde4b510",
   "metadata": {},
   "source": [
    "# Evaluation"
   ]
  },
  {
   "cell_type": "code",
   "execution_count": 33,
   "id": "bde4b510",
   "metadata": {},
   "outputs": [],
   "source": [
    "scores = cross_val_score(estimator=pipeline, X=X, y=y, cv=5, scoring='accuracy', n_jobs=-1)"
   ]
  },
  {
   "cell_type": "code",
   "execution_count": 34,
   "id": "0a26e462",
   "metadata": {},
   "outputs": [],
   "source": [
    "model_accuracy = scores.max()"
   ]
  },
  {
   "cell_type": "code",
   "execution_count": 35,
   "id": "381620fb",
   "metadata": {},
   "outputs": [
    {
     "name": "stdout",
     "output_type": "stream",
     "text": [
      "Model Accuracy: 0.761\n"
     ]
    }
   ],
   "source": [
    "print(f'Model Accuracy: {model_accuracy:.3f}')"
   ]
  }
 ],
 "metadata": {
  "colab": {
   "name": "Welcome to DataCamp Workspaces.ipynb",
   "provenance": []
  },
  "kernelspec": {
   "display_name": "Python 3",
   "language": "python",
   "name": "python3"
  },
  "language_info": {
   "codemirror_mode": {
    "name": "ipython",
    "version": 3
   },
   "file_extension": ".py",
   "mimetype": "text/x-python",
   "name": "python",
   "nbconvert_exporter": "python",
   "pygments_lexer": "ipython3",
   "version": "3.13.0rc3"
  }
 },
 "nbformat": 4,
 "nbformat_minor": 5
}
